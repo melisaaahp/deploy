{
  "nbformat": 4,
  "nbformat_minor": 0,
  "metadata": {
    "colab": {
      "provenance": []
    },
    "kernelspec": {
      "name": "python3",
      "display_name": "Python 3"
    },
    "language_info": {
      "name": "python"
    }
  },
  "cells": [
    {
      "cell_type": "markdown",
      "source": [
        "# Prediksi Emisi Karbon (CO2) per kapita di Indonesia"
      ],
      "metadata": {
        "id": "ND_z70ktRaXW"
      }
    },
    {
      "cell_type": "markdown",
      "source": [
        "Dataset yang dianalisis dalam penelitian ini merupakan dataset dari website Worldometers yang bersumber dari Emission Database for Global Atmospheric Research (EDGAR), CO2 Emissions from Fuel Combustion - IEA, and World Population Prospects: The 2019 Revision - United Nations Population Division. Kumpulan data yang digunakan pada penelitian ini terdiri dari 2 atribut tahun dan 45 record. Dari data ini akan dilakukan training dengan metode LSTM."
      ],
      "metadata": {
        "id": "VaSkEO5lZb8g"
      }
    },
    {
      "cell_type": "code",
      "execution_count": 1,
      "metadata": {
        "id": "WhROcH_tncHR"
      },
      "outputs": [],
      "source": [
        "import numpy as np\n",
        "import pandas as pd\n",
        "import seaborn as sns\n",
        "sns.set_style('whitegrid')\n",
        "import matplotlib.pyplot as plt\n",
        "plt.style.use(\"fivethirtyeight\")\n",
        "\n",
        "from keras.models import Sequential\n",
        "from keras.callbacks import EarlyStopping\n",
        "from keras.layers import Dense, LSTM, Dropout\n",
        "\n",
        "from sklearn.preprocessing import MinMaxScaler"
      ]
    },
    {
      "cell_type": "code",
      "source": [
        "df = pd.read_excel('/content/emisico2indo.xlsx')\n",
        "df.head()"
      ],
      "metadata": {
        "colab": {
          "base_uri": "https://localhost:8080/",
          "height": 206
        },
        "id": "D082Z9Vhn1AK",
        "outputId": "b26e1017-8fe9-4099-e740-e9ee6872ccbe"
      },
      "execution_count": 2,
      "outputs": [
        {
          "output_type": "execute_result",
          "data": {
            "text/plain": [
              "   Year  CO2 emission per kapita\n",
              "0  1971                     0.26\n",
              "1  1972                     0.30\n",
              "2  1973                     0.33\n",
              "3  1974                     0.35\n",
              "4  1975                     0.36"
            ],
            "text/html": [
              "\n",
              "  <div id=\"df-66d160c5-eab7-4a00-bcf4-113721281c63\">\n",
              "    <div class=\"colab-df-container\">\n",
              "      <div>\n",
              "<style scoped>\n",
              "    .dataframe tbody tr th:only-of-type {\n",
              "        vertical-align: middle;\n",
              "    }\n",
              "\n",
              "    .dataframe tbody tr th {\n",
              "        vertical-align: top;\n",
              "    }\n",
              "\n",
              "    .dataframe thead th {\n",
              "        text-align: right;\n",
              "    }\n",
              "</style>\n",
              "<table border=\"1\" class=\"dataframe\">\n",
              "  <thead>\n",
              "    <tr style=\"text-align: right;\">\n",
              "      <th></th>\n",
              "      <th>Year</th>\n",
              "      <th>CO2 emission per kapita</th>\n",
              "    </tr>\n",
              "  </thead>\n",
              "  <tbody>\n",
              "    <tr>\n",
              "      <th>0</th>\n",
              "      <td>1971</td>\n",
              "      <td>0.26</td>\n",
              "    </tr>\n",
              "    <tr>\n",
              "      <th>1</th>\n",
              "      <td>1972</td>\n",
              "      <td>0.30</td>\n",
              "    </tr>\n",
              "    <tr>\n",
              "      <th>2</th>\n",
              "      <td>1973</td>\n",
              "      <td>0.33</td>\n",
              "    </tr>\n",
              "    <tr>\n",
              "      <th>3</th>\n",
              "      <td>1974</td>\n",
              "      <td>0.35</td>\n",
              "    </tr>\n",
              "    <tr>\n",
              "      <th>4</th>\n",
              "      <td>1975</td>\n",
              "      <td>0.36</td>\n",
              "    </tr>\n",
              "  </tbody>\n",
              "</table>\n",
              "</div>\n",
              "      <button class=\"colab-df-convert\" onclick=\"convertToInteractive('df-66d160c5-eab7-4a00-bcf4-113721281c63')\"\n",
              "              title=\"Convert this dataframe to an interactive table.\"\n",
              "              style=\"display:none;\">\n",
              "        \n",
              "  <svg xmlns=\"http://www.w3.org/2000/svg\" height=\"24px\"viewBox=\"0 0 24 24\"\n",
              "       width=\"24px\">\n",
              "    <path d=\"M0 0h24v24H0V0z\" fill=\"none\"/>\n",
              "    <path d=\"M18.56 5.44l.94 2.06.94-2.06 2.06-.94-2.06-.94-.94-2.06-.94 2.06-2.06.94zm-11 1L8.5 8.5l.94-2.06 2.06-.94-2.06-.94L8.5 2.5l-.94 2.06-2.06.94zm10 10l.94 2.06.94-2.06 2.06-.94-2.06-.94-.94-2.06-.94 2.06-2.06.94z\"/><path d=\"M17.41 7.96l-1.37-1.37c-.4-.4-.92-.59-1.43-.59-.52 0-1.04.2-1.43.59L10.3 9.45l-7.72 7.72c-.78.78-.78 2.05 0 2.83L4 21.41c.39.39.9.59 1.41.59.51 0 1.02-.2 1.41-.59l7.78-7.78 2.81-2.81c.8-.78.8-2.07 0-2.86zM5.41 20L4 18.59l7.72-7.72 1.47 1.35L5.41 20z\"/>\n",
              "  </svg>\n",
              "      </button>\n",
              "      \n",
              "  <style>\n",
              "    .colab-df-container {\n",
              "      display:flex;\n",
              "      flex-wrap:wrap;\n",
              "      gap: 12px;\n",
              "    }\n",
              "\n",
              "    .colab-df-convert {\n",
              "      background-color: #E8F0FE;\n",
              "      border: none;\n",
              "      border-radius: 50%;\n",
              "      cursor: pointer;\n",
              "      display: none;\n",
              "      fill: #1967D2;\n",
              "      height: 32px;\n",
              "      padding: 0 0 0 0;\n",
              "      width: 32px;\n",
              "    }\n",
              "\n",
              "    .colab-df-convert:hover {\n",
              "      background-color: #E2EBFA;\n",
              "      box-shadow: 0px 1px 2px rgba(60, 64, 67, 0.3), 0px 1px 3px 1px rgba(60, 64, 67, 0.15);\n",
              "      fill: #174EA6;\n",
              "    }\n",
              "\n",
              "    [theme=dark] .colab-df-convert {\n",
              "      background-color: #3B4455;\n",
              "      fill: #D2E3FC;\n",
              "    }\n",
              "\n",
              "    [theme=dark] .colab-df-convert:hover {\n",
              "      background-color: #434B5C;\n",
              "      box-shadow: 0px 1px 3px 1px rgba(0, 0, 0, 0.15);\n",
              "      filter: drop-shadow(0px 1px 2px rgba(0, 0, 0, 0.3));\n",
              "      fill: #FFFFFF;\n",
              "    }\n",
              "  </style>\n",
              "\n",
              "      <script>\n",
              "        const buttonEl =\n",
              "          document.querySelector('#df-66d160c5-eab7-4a00-bcf4-113721281c63 button.colab-df-convert');\n",
              "        buttonEl.style.display =\n",
              "          google.colab.kernel.accessAllowed ? 'block' : 'none';\n",
              "\n",
              "        async function convertToInteractive(key) {\n",
              "          const element = document.querySelector('#df-66d160c5-eab7-4a00-bcf4-113721281c63');\n",
              "          const dataTable =\n",
              "            await google.colab.kernel.invokeFunction('convertToInteractive',\n",
              "                                                     [key], {});\n",
              "          if (!dataTable) return;\n",
              "\n",
              "          const docLinkHtml = 'Like what you see? Visit the ' +\n",
              "            '<a target=\"_blank\" href=https://colab.research.google.com/notebooks/data_table.ipynb>data table notebook</a>'\n",
              "            + ' to learn more about interactive tables.';\n",
              "          element.innerHTML = '';\n",
              "          dataTable['output_type'] = 'display_data';\n",
              "          await google.colab.output.renderOutput(dataTable, element);\n",
              "          const docLink = document.createElement('div');\n",
              "          docLink.innerHTML = docLinkHtml;\n",
              "          element.appendChild(docLink);\n",
              "        }\n",
              "      </script>\n",
              "    </div>\n",
              "  </div>\n",
              "  "
            ]
          },
          "metadata": {},
          "execution_count": 2
        }
      ]
    },
    {
      "cell_type": "code",
      "source": [
        "df.info()"
      ],
      "metadata": {
        "colab": {
          "base_uri": "https://localhost:8080/"
        },
        "id": "Cb4YXbosoHc5",
        "outputId": "68d12ef2-e863-4aeb-f54a-985ef6c6bbce"
      },
      "execution_count": 3,
      "outputs": [
        {
          "output_type": "stream",
          "name": "stdout",
          "text": [
            "<class 'pandas.core.frame.DataFrame'>\n",
            "RangeIndex: 46 entries, 0 to 45\n",
            "Data columns (total 2 columns):\n",
            " #   Column                   Non-Null Count  Dtype  \n",
            "---  ------                   --------------  -----  \n",
            " 0   Year                     46 non-null     int64  \n",
            " 1   CO2 emission per kapita  46 non-null     float64\n",
            "dtypes: float64(1), int64(1)\n",
            "memory usage: 864.0 bytes\n"
          ]
        }
      ]
    },
    {
      "cell_type": "code",
      "source": [
        "#Missing values computation\n",
        "\n",
        "df.isnull().sum()"
      ],
      "metadata": {
        "colab": {
          "base_uri": "https://localhost:8080/"
        },
        "id": "1iYnkqAqHuI_",
        "outputId": "5dc49cef-6ea2-4e52-8db5-17b223c4e4be"
      },
      "execution_count": 4,
      "outputs": [
        {
          "output_type": "execute_result",
          "data": {
            "text/plain": [
              "Year                       0\n",
              "CO2 emission per kapita    0\n",
              "dtype: int64"
            ]
          },
          "metadata": {},
          "execution_count": 4
        }
      ]
    },
    {
      "cell_type": "markdown",
      "source": [
        "# Mengubah kolom 'Year' menjadi indeks datetime"
      ],
      "metadata": {
        "id": "_rRNWB7YZZxb"
      }
    },
    {
      "cell_type": "code",
      "source": [
        "df['Year'] = pd.to_datetime(df['Year'])\n",
        "df.set_index('Year', inplace= True)\n"
      ],
      "metadata": {
        "id": "aFNYRW74JLYb"
      },
      "execution_count": 5,
      "outputs": []
    },
    {
      "cell_type": "markdown",
      "source": [
        "#Memvisualisasikan data"
      ],
      "metadata": {
        "id": "pjs23tj6ZsLO"
      }
    },
    {
      "cell_type": "code",
      "source": [
        "plt.figure(figsize=(15, 6))\n",
        "df['CO2 emission per kapita'].plot()\n",
        "plt.ylabel(None)\n",
        "plt.xlabel(None)\n",
        "plt.title(\"CO2 emission per kapita\")\n",
        "plt.tight_layout()\n",
        "plt.show()"
      ],
      "metadata": {
        "colab": {
          "base_uri": "https://localhost:8080/",
          "height": 351
        },
        "id": "aMreokNSIRXA",
        "outputId": "fe03d7be-6ec7-4f96-e75e-b919ee98fcda"
      },
      "execution_count": 6,
      "outputs": [
        {
          "output_type": "display_data",
          "data": {
            "text/plain": [
              "<Figure size 1500x600 with 1 Axes>"
            ],
            "image/png": "[encoded data removed]"
          },
          "metadata": {}
        }
      ]
    },
    {
      "cell_type": "markdown",
      "source": [
        "#Melihat data shape"
      ],
      "metadata": {
        "id": "UbtDT2J2Z0__"
      }
    },
    {
      "cell_type": "code",
      "source": [
        "n_cols = 1\n",
        "dataset = df['CO2 emission per kapita']\n",
        "dataset = pd.DataFrame(dataset)\n",
        "data = dataset.values\n",
        "\n",
        "data.shape"
      ],
      "metadata": {
        "colab": {
          "base_uri": "https://localhost:8080/"
        },
        "id": "xgK7nblaKU3o",
        "outputId": "c6d3ea83-0333-458f-bea3-d1b3223cb323"
      },
      "execution_count": 7,
      "outputs": [
        {
          "output_type": "execute_result",
          "data": {
            "text/plain": [
              "(46, 1)"
            ]
          },
          "metadata": {},
          "execution_count": 7
        }
      ]
    },
    {
      "cell_type": "markdown",
      "source": [
        "#Melakukan komputasi MinMaxScaler\n",
        "yang mempertahankan bentuk distribusi asli dengan mengurangkan nilai minimum dalam fitur lalu membagi dengan range"
      ],
      "metadata": {
        "id": "HkUQM8kZZ7If"
      }
    },
    {
      "cell_type": "code",
      "source": [
        "from sklearn.preprocessing import MinMaxScaler\n",
        "scaler = MinMaxScaler(feature_range= (0, 1))\n",
        "scaled_data = scaler.fit_transform(np.array(data))"
      ],
      "metadata": {
        "id": "LWtyFCo9KfHk"
      },
      "execution_count": 8,
      "outputs": []
    },
    {
      "cell_type": "markdown",
      "source": [
        "#Melakukan splitting data\n",
        "menjadi 75:25 untuk training dan testing"
      ],
      "metadata": {
        "id": "wYjbhT3naOJk"
      }
    },
    {
      "cell_type": "code",
      "source": [
        "train_size = int(len(data) * 0.75)\n",
        "test_size = len(data) - train_size\n",
        "print(\"Train Size :\",train_size,\"Test Size :\",test_size)"
      ],
      "metadata": {
        "colab": {
          "base_uri": "https://localhost:8080/"
        },
        "id": "uI7fDRdHKmyc",
        "outputId": "515b20df-a70f-4e06-f852-0d4ecddc3693"
      },
      "execution_count": 9,
      "outputs": [
        {
          "output_type": "stream",
          "name": "stdout",
          "text": [
            "Train Size : 34 Test Size : 12\n"
          ]
        }
      ]
    },
    {
      "cell_type": "code",
      "source": [
        "train_data = scaled_data[0:train_size, :]\n",
        "train_data.shape"
      ],
      "metadata": {
        "colab": {
          "base_uri": "https://localhost:8080/"
        },
        "id": "ypGfaV4gKp-d",
        "outputId": "05d89a90-47d1-4f77-ce9d-30aa0152532d"
      },
      "execution_count": 10,
      "outputs": [
        {
          "output_type": "execute_result",
          "data": {
            "text/plain": [
              "(34, 1)"
            ]
          },
          "metadata": {},
          "execution_count": 10
        }
      ]
    },
    {
      "cell_type": "markdown",
      "source": [
        "# Menentukan training set dengan 13 time steps."
      ],
      "metadata": {
        "id": "Kfy54ei3aX1N"
      }
    },
    {
      "cell_type": "code",
      "source": [
        "x_train = []\n",
        "y_train = []\n",
        "time_steps = 18\n",
        "n_cols = 1\n",
        "\n",
        "for i in range(time_steps, len(scaled_data)):\n",
        "    x_train.append(scaled_data[i-time_steps:i, :n_cols])\n",
        "    y_train.append(scaled_data[i, :n_cols])\n",
        "    if i<=time_steps:\n",
        "        print('X_train: ', x_train)\n",
        "        print('y_train:' , y_train)"
      ],
      "metadata": {
        "id": "oIlTA-2iKvS1",
        "colab": {
          "base_uri": "https://localhost:8080/"
        },
        "outputId": "5cc52fdc-ac93-4ca9-b381-d8e14888e483"
      },
      "execution_count": 11,
      "outputs": [
        {
          "output_type": "stream",
          "name": "stdout",
          "text": [
            "X_train:  [array([[0.        ],\n",
            "       [0.02259887],\n",
            "       [0.03954802],\n",
            "       [0.05084746],\n",
            "       [0.05649718],\n",
            "       [0.06779661],\n",
            "       [0.13559322],\n",
            "       [0.17514124],\n",
            "       [0.1920904 ],\n",
            "       [0.18644068],\n",
            "       [0.19774011],\n",
            "       [0.1920904 ],\n",
            "       [0.18079096],\n",
            "       [0.18079096],\n",
            "       [0.20338983],\n",
            "       [0.23163842],\n",
            "       [0.23728814],\n",
            "       [0.25988701]])]\n",
            "y_train: [array([0.27683616])]\n"
          ]
        }
      ]
    },
    {
      "cell_type": "code",
      "source": [
        "x_train, y_train = np.array(x_train), np.array(y_train)"
      ],
      "metadata": {
        "id": "azB4Z1a5KzB5"
      },
      "execution_count": 13,
      "outputs": []
    },
    {
      "cell_type": "markdown",
      "source": [
        "#Training set dikonversi menjadi numpy array dan dibentuk shape-nya."
      ],
      "metadata": {
        "id": "vTNSP6-taiZZ"
      }
    },
    {
      "cell_type": "code",
      "source": [
        "x_train = np.reshape(x_train, (x_train.shape[0], x_train.shape[1], n_cols))"
      ],
      "metadata": {
        "id": "nJxiuzA_K1A0"
      },
      "execution_count": 14,
      "outputs": []
    },
    {
      "cell_type": "code",
      "source": [
        "x_train.shape , y_train.shape"
      ],
      "metadata": {
        "colab": {
          "base_uri": "https://localhost:8080/"
        },
        "id": "u5XCjnn1K3eQ",
        "outputId": "3b5224bb-5758-4739-e800-a21e77bddb3c"
      },
      "execution_count": 15,
      "outputs": [
        {
          "output_type": "execute_result",
          "data": {
            "text/plain": [
              "((28, 18, 1), (28, 1))"
            ]
          },
          "metadata": {},
          "execution_count": 15
        }
      ]
    },
    {
      "cell_type": "markdown",
      "source": [
        "#Membangun model LSTM\n",
        "dengan 3 layer LSTM dengan layer pertama sebesar 200 neuron, layer kedua sebesar 10 neuron dan layer ketiga sebesar 50 neuron serta layer dense dengan layer pertama sebesar 20 neuron, layer kedua sebesar 10 neuron, dan layer ketiga sebesar 1 neuron. Optimizer menggunakan optimizer adam, untuk loss terdapat mean_absolute_error."
      ],
      "metadata": {
        "id": "sNz8nofZazQB"
      }
    },
    {
      "cell_type": "code",
      "source": [
        "model = Sequential()\n",
        "model.add(LSTM(200, activation='relu', return_sequences=True, input_shape=(18, 1)))\n",
        "model.add(LSTM(100, activation='relu', return_sequences=True))\n",
        "model.add(LSTM(50, activation='relu', return_sequences=False))\n",
        "model.add(Dense(20, activation='relu'))\n",
        "model.add(Dense(10, activation='relu'))\n",
        "model.add(Dense(1))\n",
        "model.compile(optimizer='adam', loss='mse', metrics= \"mean_absolute_error\")\n",
        "print(model.summary())"
      ],
      "metadata": {
        "colab": {
          "base_uri": "https://localhost:8080/"
        },
        "id": "NghQhVIdp1qv",
        "outputId": "8fe10ad3-b644-467a-926f-56deaa5ee86c"
      },
      "execution_count": 18,
      "outputs": [
        {
          "output_type": "stream",
          "name": "stdout",
          "text": [
            "Model: \"sequential\"\n",
            "_________________________________________________________________\n",
            " Layer (type)                Output Shape              Param #   \n",
            "=================================================================\n",
            " lstm (LSTM)                 (None, 18, 200)           161600    \n",
            "                                                                 \n",
            " lstm_1 (LSTM)               (None, 18, 100)           120400    \n",
            "                                                                 \n",
            " lstm_2 (LSTM)               (None, 50)                30200     \n",
            "                                                                 \n",
            " dense (Dense)               (None, 20)                1020      \n",
            "                                                                 \n",
            " dense_1 (Dense)             (None, 10)                210       \n",
            "                                                                 \n",
            " dense_2 (Dense)             (None, 1)                 11        \n",
            "                                                                 \n",
            "=================================================================\n",
            "Total params: 313,441\n",
            "Trainable params: 313,441\n",
            "Non-trainable params: 0\n",
            "_________________________________________________________________\n",
            "None\n"
          ]
        }
      ]
    },
    {
      "cell_type": "code",
      "source": [
        "def df_to_x_y(df, window_size):\n",
        "    df_as_np = df.to_numpy()\n",
        "    x=[]\n",
        "    y=[]\n",
        "    for i in range(len(df_as_np)-window_size):\n",
        "        row = [[a] for a in df_as_np[i:i+window_size]]\n",
        "        x.append(row)\n",
        "        label = df_as_np[i+window_size]\n",
        "        y.append(label)\n",
        "    return np.array(x), np.array(y)"
      ],
      "metadata": {
        "id": "RAmle5CpPMwq"
      },
      "execution_count": 19,
      "outputs": []
    },
    {
      "cell_type": "markdown",
      "source": [
        "#Melakukan fit model\n",
        "dengan epoch sebesar 100 dan ukuran batch sebesar 32"
      ],
      "metadata": {
        "id": "8pvQ_Kt2bCVO"
      }
    },
    {
      "cell_type": "code",
      "source": [
        "history = model.fit(x_train, y_train, epochs= 100, batch_size= 32)"
      ],
      "metadata": {
        "colab": {
          "base_uri": "https://localhost:8080/"
        },
        "id": "cxQkShCNOtNP",
        "outputId": "255a1a57-a6dc-4188-ca42-a3c2e12e0d23"
      },
      "execution_count": 22,
      "outputs": [
        {
          "output_type": "stream",
          "name": "stdout",
          "text": [
            "Epoch 1/100\n",
            "1/1 [==============================] - 0s 96ms/step - loss: 0.0039 - mean_absolute_error: 0.0518\n",
            "Epoch 2/100\n",
            "1/1 [==============================] - 0s 83ms/step - loss: 0.0039 - mean_absolute_error: 0.0517\n",
            "Epoch 3/100\n",
            "1/1 [==============================] - 0s 84ms/step - loss: 0.0038 - mean_absolute_error: 0.0517\n",
            "Epoch 4/100\n",
            "1/1 [==============================] - 0s 77ms/step - loss: 0.0038 - mean_absolute_error: 0.0516\n",
            "Epoch 5/100\n",
            "1/1 [==============================] - 0s 85ms/step - loss: 0.0038 - mean_absolute_error: 0.0515\n",
            "Epoch 6/100\n",
            "1/1 [==============================] - 0s 93ms/step - loss: 0.0038 - mean_absolute_error: 0.0513\n",
            "Epoch 7/100\n",
            "1/1 [==============================] - 0s 92ms/step - loss: 0.0038 - mean_absolute_error: 0.0512\n",
            "Epoch 8/100\n",
            "1/1 [==============================] - 0s 86ms/step - loss: 0.0038 - mean_absolute_error: 0.0510\n",
            "Epoch 9/100\n",
            "1/1 [==============================] - 0s 95ms/step - loss: 0.0037 - mean_absolute_error: 0.0509\n",
            "Epoch 10/100\n",
            "1/1 [==============================] - 0s 80ms/step - loss: 0.0037 - mean_absolute_error: 0.0507\n",
            "Epoch 11/100\n",
            "1/1 [==============================] - 0s 80ms/step - loss: 0.0037 - mean_absolute_error: 0.0506\n",
            "Epoch 12/100\n",
            "1/1 [==============================] - 0s 80ms/step - loss: 0.0037 - mean_absolute_error: 0.0504\n",
            "Epoch 13/100\n",
            "1/1 [==============================] - 0s 85ms/step - loss: 0.0037 - mean_absolute_error: 0.0503\n",
            "Epoch 14/100\n",
            "1/1 [==============================] - 0s 86ms/step - loss: 0.0036 - mean_absolute_error: 0.0502\n",
            "Epoch 15/100\n",
            "1/1 [==============================] - 0s 88ms/step - loss: 0.0036 - mean_absolute_error: 0.0502\n",
            "Epoch 16/100\n",
            "1/1 [==============================] - 0s 81ms/step - loss: 0.0036 - mean_absolute_error: 0.0501\n",
            "Epoch 17/100\n",
            "1/1 [==============================] - 0s 92ms/step - loss: 0.0036 - mean_absolute_error: 0.0500\n",
            "Epoch 18/100\n",
            "1/1 [==============================] - 0s 75ms/step - loss: 0.0035 - mean_absolute_error: 0.0500\n",
            "Epoch 19/100\n",
            "1/1 [==============================] - 0s 90ms/step - loss: 0.0035 - mean_absolute_error: 0.0500\n",
            "Epoch 20/100\n",
            "1/1 [==============================] - 0s 86ms/step - loss: 0.0035 - mean_absolute_error: 0.0499\n",
            "Epoch 21/100\n",
            "1/1 [==============================] - 0s 147ms/step - loss: 0.0035 - mean_absolute_error: 0.0499\n",
            "Epoch 22/100\n",
            "1/1 [==============================] - 0s 161ms/step - loss: 0.0034 - mean_absolute_error: 0.0498\n",
            "Epoch 23/100\n",
            "1/1 [==============================] - 0s 144ms/step - loss: 0.0034 - mean_absolute_error: 0.0497\n",
            "Epoch 24/100\n",
            "1/1 [==============================] - 0s 145ms/step - loss: 0.0034 - mean_absolute_error: 0.0496\n",
            "Epoch 25/100\n",
            "1/1 [==============================] - 0s 143ms/step - loss: 0.0034 - mean_absolute_error: 0.0494\n",
            "Epoch 26/100\n",
            "1/1 [==============================] - 0s 151ms/step - loss: 0.0033 - mean_absolute_error: 0.0492\n",
            "Epoch 27/100\n",
            "1/1 [==============================] - 0s 155ms/step - loss: 0.0033 - mean_absolute_error: 0.0490\n",
            "Epoch 28/100\n",
            "1/1 [==============================] - 0s 152ms/step - loss: 0.0033 - mean_absolute_error: 0.0488\n",
            "Epoch 29/100\n",
            "1/1 [==============================] - 0s 151ms/step - loss: 0.0033 - mean_absolute_error: 0.0486\n",
            "Epoch 30/100\n",
            "1/1 [==============================] - 0s 151ms/step - loss: 0.0032 - mean_absolute_error: 0.0485\n",
            "Epoch 31/100\n",
            "1/1 [==============================] - 0s 144ms/step - loss: 0.0032 - mean_absolute_error: 0.0483\n",
            "Epoch 32/100\n",
            "1/1 [==============================] - 0s 155ms/step - loss: 0.0032 - mean_absolute_error: 0.0481\n",
            "Epoch 33/100\n",
            "1/1 [==============================] - 0s 156ms/step - loss: 0.0031 - mean_absolute_error: 0.0479\n",
            "Epoch 34/100\n",
            "1/1 [==============================] - 0s 144ms/step - loss: 0.0031 - mean_absolute_error: 0.0477\n",
            "Epoch 35/100\n",
            "1/1 [==============================] - 0s 142ms/step - loss: 0.0031 - mean_absolute_error: 0.0475\n",
            "Epoch 36/100\n",
            "1/1 [==============================] - 0s 152ms/step - loss: 0.0030 - mean_absolute_error: 0.0473\n",
            "Epoch 37/100\n",
            "1/1 [==============================] - 0s 150ms/step - loss: 0.0030 - mean_absolute_error: 0.0470\n",
            "Epoch 38/100\n",
            "1/1 [==============================] - 0s 143ms/step - loss: 0.0030 - mean_absolute_error: 0.0468\n",
            "Epoch 39/100\n",
            "1/1 [==============================] - 0s 152ms/step - loss: 0.0029 - mean_absolute_error: 0.0466\n",
            "Epoch 40/100\n",
            "1/1 [==============================] - 0s 144ms/step - loss: 0.0029 - mean_absolute_error: 0.0463\n",
            "Epoch 41/100\n",
            "1/1 [==============================] - 0s 125ms/step - loss: 0.0029 - mean_absolute_error: 0.0461\n",
            "Epoch 42/100\n",
            "1/1 [==============================] - 0s 91ms/step - loss: 0.0028 - mean_absolute_error: 0.0458\n",
            "Epoch 43/100\n",
            "1/1 [==============================] - 0s 83ms/step - loss: 0.0028 - mean_absolute_error: 0.0456\n",
            "Epoch 44/100\n",
            "1/1 [==============================] - 0s 81ms/step - loss: 0.0027 - mean_absolute_error: 0.0453\n",
            "Epoch 45/100\n",
            "1/1 [==============================] - 0s 83ms/step - loss: 0.0027 - mean_absolute_error: 0.0450\n",
            "Epoch 46/100\n",
            "1/1 [==============================] - 0s 83ms/step - loss: 0.0027 - mean_absolute_error: 0.0447\n",
            "Epoch 47/100\n",
            "1/1 [==============================] - 0s 90ms/step - loss: 0.0026 - mean_absolute_error: 0.0444\n",
            "Epoch 48/100\n",
            "1/1 [==============================] - 0s 86ms/step - loss: 0.0026 - mean_absolute_error: 0.0441\n",
            "Epoch 49/100\n",
            "1/1 [==============================] - 0s 83ms/step - loss: 0.0025 - mean_absolute_error: 0.0437\n",
            "Epoch 50/100\n",
            "1/1 [==============================] - 0s 94ms/step - loss: 0.0025 - mean_absolute_error: 0.0434\n",
            "Epoch 51/100\n",
            "1/1 [==============================] - 0s 85ms/step - loss: 0.0025 - mean_absolute_error: 0.0431\n",
            "Epoch 52/100\n",
            "1/1 [==============================] - 0s 95ms/step - loss: 0.0024 - mean_absolute_error: 0.0427\n",
            "Epoch 53/100\n",
            "1/1 [==============================] - 0s 83ms/step - loss: 0.0024 - mean_absolute_error: 0.0423\n",
            "Epoch 54/100\n",
            "1/1 [==============================] - 0s 86ms/step - loss: 0.0023 - mean_absolute_error: 0.0420\n",
            "Epoch 55/100\n",
            "1/1 [==============================] - 0s 84ms/step - loss: 0.0023 - mean_absolute_error: 0.0416\n",
            "Epoch 56/100\n",
            "1/1 [==============================] - 0s 87ms/step - loss: 0.0022 - mean_absolute_error: 0.0412\n",
            "Epoch 57/100\n",
            "1/1 [==============================] - 0s 81ms/step - loss: 0.0022 - mean_absolute_error: 0.0408\n",
            "Epoch 58/100\n",
            "1/1 [==============================] - 0s 87ms/step - loss: 0.0021 - mean_absolute_error: 0.0404\n",
            "Epoch 59/100\n",
            "1/1 [==============================] - 0s 80ms/step - loss: 0.0021 - mean_absolute_error: 0.0399\n",
            "Epoch 60/100\n",
            "1/1 [==============================] - 0s 84ms/step - loss: 0.0020 - mean_absolute_error: 0.0395\n",
            "Epoch 61/100\n",
            "1/1 [==============================] - 0s 101ms/step - loss: 0.0020 - mean_absolute_error: 0.0390\n",
            "Epoch 62/100\n",
            "1/1 [==============================] - 0s 79ms/step - loss: 0.0020 - mean_absolute_error: 0.0386\n",
            "Epoch 63/100\n",
            "1/1 [==============================] - 0s 107ms/step - loss: 0.0019 - mean_absolute_error: 0.0381\n",
            "Epoch 64/100\n",
            "1/1 [==============================] - 0s 84ms/step - loss: 0.0019 - mean_absolute_error: 0.0376\n",
            "Epoch 65/100\n",
            "1/1 [==============================] - 0s 87ms/step - loss: 0.0018 - mean_absolute_error: 0.0371\n",
            "Epoch 66/100\n",
            "1/1 [==============================] - 0s 84ms/step - loss: 0.0018 - mean_absolute_error: 0.0366\n",
            "Epoch 67/100\n",
            "1/1 [==============================] - 0s 89ms/step - loss: 0.0017 - mean_absolute_error: 0.0361\n",
            "Epoch 68/100\n",
            "1/1 [==============================] - 0s 80ms/step - loss: 0.0017 - mean_absolute_error: 0.0355\n",
            "Epoch 69/100\n",
            "1/1 [==============================] - 0s 88ms/step - loss: 0.0016 - mean_absolute_error: 0.0350\n",
            "Epoch 70/100\n",
            "1/1 [==============================] - 0s 80ms/step - loss: 0.0016 - mean_absolute_error: 0.0344\n",
            "Epoch 71/100\n",
            "1/1 [==============================] - 0s 84ms/step - loss: 0.0015 - mean_absolute_error: 0.0339\n",
            "Epoch 72/100\n",
            "1/1 [==============================] - 0s 78ms/step - loss: 0.0015 - mean_absolute_error: 0.0333\n",
            "Epoch 73/100\n",
            "1/1 [==============================] - 0s 89ms/step - loss: 0.0015 - mean_absolute_error: 0.0326\n",
            "Epoch 74/100\n",
            "1/1 [==============================] - 0s 86ms/step - loss: 0.0014 - mean_absolute_error: 0.0320\n",
            "Epoch 75/100\n",
            "1/1 [==============================] - 0s 97ms/step - loss: 0.0014 - mean_absolute_error: 0.0315\n",
            "Epoch 76/100\n",
            "1/1 [==============================] - 0s 82ms/step - loss: 0.0013 - mean_absolute_error: 0.0309\n",
            "Epoch 77/100\n",
            "1/1 [==============================] - 0s 83ms/step - loss: 0.0013 - mean_absolute_error: 0.0303\n",
            "Epoch 78/100\n",
            "1/1 [==============================] - 0s 87ms/step - loss: 0.0013 - mean_absolute_error: 0.0296\n",
            "Epoch 79/100\n",
            "1/1 [==============================] - 0s 82ms/step - loss: 0.0012 - mean_absolute_error: 0.0292\n",
            "Epoch 80/100\n",
            "1/1 [==============================] - 0s 83ms/step - loss: 0.0012 - mean_absolute_error: 0.0287\n",
            "Epoch 81/100\n",
            "1/1 [==============================] - 0s 79ms/step - loss: 0.0012 - mean_absolute_error: 0.0283\n",
            "Epoch 82/100\n",
            "1/1 [==============================] - 0s 80ms/step - loss: 0.0012 - mean_absolute_error: 0.0278\n",
            "Epoch 83/100\n",
            "1/1 [==============================] - 0s 89ms/step - loss: 0.0011 - mean_absolute_error: 0.0275\n",
            "Epoch 84/100\n",
            "1/1 [==============================] - 0s 98ms/step - loss: 0.0011 - mean_absolute_error: 0.0272\n",
            "Epoch 85/100\n",
            "1/1 [==============================] - 0s 82ms/step - loss: 0.0011 - mean_absolute_error: 0.0269\n",
            "Epoch 86/100\n",
            "1/1 [==============================] - 0s 78ms/step - loss: 0.0011 - mean_absolute_error: 0.0268\n",
            "Epoch 87/100\n",
            "1/1 [==============================] - 0s 78ms/step - loss: 0.0010 - mean_absolute_error: 0.0267\n",
            "Epoch 88/100\n",
            "1/1 [==============================] - 0s 94ms/step - loss: 0.0010 - mean_absolute_error: 0.0265\n",
            "Epoch 89/100\n",
            "1/1 [==============================] - 0s 85ms/step - loss: 0.0010 - mean_absolute_error: 0.0263\n",
            "Epoch 90/100\n",
            "1/1 [==============================] - 0s 80ms/step - loss: 9.9068e-04 - mean_absolute_error: 0.0262\n",
            "Epoch 91/100\n",
            "1/1 [==============================] - 0s 98ms/step - loss: 9.7612e-04 - mean_absolute_error: 0.0261\n",
            "Epoch 92/100\n",
            "1/1 [==============================] - 0s 81ms/step - loss: 9.6256e-04 - mean_absolute_error: 0.0260\n",
            "Epoch 93/100\n",
            "1/1 [==============================] - 0s 81ms/step - loss: 9.4923e-04 - mean_absolute_error: 0.0258\n",
            "Epoch 94/100\n",
            "1/1 [==============================] - 0s 87ms/step - loss: 9.3639e-04 - mean_absolute_error: 0.0256\n",
            "Epoch 95/100\n",
            "1/1 [==============================] - 0s 105ms/step - loss: 9.2420e-04 - mean_absolute_error: 0.0255\n",
            "Epoch 96/100\n",
            "1/1 [==============================] - 0s 96ms/step - loss: 9.1246e-04 - mean_absolute_error: 0.0253\n",
            "Epoch 97/100\n",
            "1/1 [==============================] - 0s 83ms/step - loss: 9.0112e-04 - mean_absolute_error: 0.0252\n",
            "Epoch 98/100\n",
            "1/1 [==============================] - 0s 81ms/step - loss: 8.8986e-04 - mean_absolute_error: 0.0250\n",
            "Epoch 99/100\n",
            "1/1 [==============================] - 0s 84ms/step - loss: 8.7885e-04 - mean_absolute_error: 0.0248\n",
            "Epoch 100/100\n",
            "1/1 [==============================] - 0s 77ms/step - loss: 8.6806e-04 - mean_absolute_error: 0.0247\n"
          ]
        }
      ]
    },
    {
      "cell_type": "markdown",
      "source": [
        "#Mengukur Loss\n",
        "Dari hasil dapat disimpulkan bahwa kurva model loss menunjukan hasil kurva menurun dengan baik dan tidak terjadi overfitting yang berlebihan."
      ],
      "metadata": {
        "id": "GYXRGXMCbLD2"
      }
    },
    {
      "cell_type": "code",
      "source": [
        "plt.figure(figsize=(12, 8))\n",
        "plt.plot(history.history[\"loss\"])\n",
        "plt.plot(history.history[\"mean_absolute_error\"])\n",
        "plt.legend(['Mean Squared Error','Mean Absolute Error'])\n",
        "plt.title(\"Losses\")\n",
        "plt.xlabel(\"epochs\")\n",
        "plt.ylabel(\"loss\")\n",
        "plt.show()"
      ],
      "metadata": {
        "colab": {
          "base_uri": "https://localhost:8080/",
          "height": 579
        },
        "id": "49lVFhgqRARv",
        "outputId": "36b1bdfb-114d-4fda-afdb-03d7c7ca2f8a"
      },
      "execution_count": 23,
      "outputs": [
        {
          "output_type": "display_data",
          "data": {
            "text/plain": [
              "<Figure size 1200x800 with 1 Axes>"
            ],
            "image/png": "[encoded data removed]"
          },
          "metadata": {}
        }
      ]
    },
    {
      "cell_type": "markdown",
      "source": [
        "#Melakukan prediksi\n",
        "Data test dibuatkan dengan 18 time steps, kemudian dilakukan juga standardisasi dengan scaler.inverse_transform serta mengkomputasi root mean square error."
      ],
      "metadata": {
        "id": "Ml3PhsxIbVHR"
      }
    },
    {
      "cell_type": "code",
      "source": [
        "# Creating a testing set with 60 time-steps and 1 output\n",
        "time_steps = 18\n",
        "test_data = scaled_data[train_size - time_steps:, :]\n",
        "\n",
        "x_test = []\n",
        "y_test = []\n",
        "n_cols = 1\n",
        "\n",
        "for i in range(time_steps, len(test_data)):\n",
        "    x_test.append(test_data[i-time_steps:i, 0:n_cols])\n",
        "    y_test.append(test_data[i, 0:n_cols])\n",
        "x_test, y_test = np.array(x_test), np.array(y_test)\n",
        "x_test = np.reshape(x_test, (x_test.shape[0], x_test.shape[1], n_cols))"
      ],
      "metadata": {
        "id": "AbiNnKrHRl3V"
      },
      "execution_count": 24,
      "outputs": []
    },
    {
      "cell_type": "code",
      "source": [
        "# Get Prediction\n",
        "predictions = model.predict(x_test)"
      ],
      "metadata": {
        "colab": {
          "base_uri": "https://localhost:8080/"
        },
        "id": "MiVisHXaSTtB",
        "outputId": "792e7a3e-8432-4d31-a969-b1b41739bd70"
      },
      "execution_count": 25,
      "outputs": [
        {
          "output_type": "stream",
          "name": "stdout",
          "text": [
            "1/1 [==============================] - 1s 505ms/step\n"
          ]
        }
      ]
    },
    {
      "cell_type": "code",
      "source": [
        "predictions.shape"
      ],
      "metadata": {
        "colab": {
          "base_uri": "https://localhost:8080/"
        },
        "id": "EdXJDdVKSz3H",
        "outputId": "2f7e0eb7-51f2-49e1-a587-8c55eedd8d62"
      },
      "execution_count": 26,
      "outputs": [
        {
          "output_type": "execute_result",
          "data": {
            "text/plain": [
              "(12, 1)"
            ]
          },
          "metadata": {},
          "execution_count": 26
        }
      ]
    },
    {
      "cell_type": "code",
      "source": [
        "#inverse predictions scaling\n",
        "predictions = scaler.inverse_transform(predictions)\n",
        "predictions.shape"
      ],
      "metadata": {
        "colab": {
          "base_uri": "https://localhost:8080/"
        },
        "id": "sEBP4GhHS3SN",
        "outputId": "67a288cd-1e69-4906-a979-565a10601394"
      },
      "execution_count": 27,
      "outputs": [
        {
          "output_type": "execute_result",
          "data": {
            "text/plain": [
              "(12, 1)"
            ]
          },
          "metadata": {},
          "execution_count": 27
        }
      ]
    },
    {
      "cell_type": "code",
      "source": [
        "#inverse y_test scaling\n",
        "y_test = scaler.inverse_transform(y_test)"
      ],
      "metadata": {
        "id": "ECBYzZyGTGoq"
      },
      "execution_count": 28,
      "outputs": []
    },
    {
      "cell_type": "code",
      "source": [
        "RMSE = np.sqrt(np.mean( y_test - predictions )**2).round(2)\n",
        "RMSE"
      ],
      "metadata": {
        "colab": {
          "base_uri": "https://localhost:8080/"
        },
        "id": "LtfTLnBoTI7d",
        "outputId": "cbc879a8-cbf9-4a75-b3b4-c234c59492b4"
      },
      "execution_count": 29,
      "outputs": [
        {
          "output_type": "execute_result",
          "data": {
            "text/plain": [
              "0.02"
            ]
          },
          "metadata": {},
          "execution_count": 29
        }
      ]
    },
    {
      "cell_type": "markdown",
      "source": [
        "#Plotting prediksi"
      ],
      "metadata": {
        "id": "GIN3rZ8xbh6r"
      }
    },
    {
      "cell_type": "code",
      "source": [
        "\n",
        "preds_acts = pd.DataFrame(data={'Predictions':predictions.flatten(), 'Actuals':y_test.flatten()})\n",
        "preds_acts\n"
      ],
      "metadata": {
        "colab": {
          "base_uri": "https://localhost:8080/",
          "height": 426
        },
        "id": "bUzEdxasTQZT",
        "outputId": "aac6bbee-a482-4f23-eaa2-c045b7becef6"
      },
      "execution_count": 30,
      "outputs": [
        {
          "output_type": "execute_result",
          "data": {
            "text/plain": [
              "    Predictions  Actuals\n",
              "0      1.569319     1.59\n",
              "1      1.613667     1.67\n",
              "2      1.658644     1.72\n",
              "3      1.704713     1.68\n",
              "4      1.746008     1.72\n",
              "5      1.786206     1.75\n",
              "6      1.827364     1.76\n",
              "7      1.865796     1.78\n",
              "8      1.903025     1.79\n",
              "9      1.935948     1.91\n",
              "10     1.967669     1.93\n",
              "11     1.994787     2.03"
            ],
            "text/html": [
              "\n",
              "  <div id=\"df-275e0a7b-d456-47c8-b612-a97157ff82e4\">\n",
              "    <div class=\"colab-df-container\">\n",
              "      <div>\n",
              "<style scoped>\n",
              "    .dataframe tbody tr th:only-of-type {\n",
              "        vertical-align: middle;\n",
              "    }\n",
              "\n",
              "    .dataframe tbody tr th {\n",
              "        vertical-align: top;\n",
              "    }\n",
              "\n",
              "    .dataframe thead th {\n",
              "        text-align: right;\n",
              "    }\n",
              "</style>\n",
              "<table border=\"1\" class=\"dataframe\">\n",
              "  <thead>\n",
              "    <tr style=\"text-align: right;\">\n",
              "      <th></th>\n",
              "      <th>Predictions</th>\n",
              "      <th>Actuals</th>\n",
              "    </tr>\n",
              "  </thead>\n",
              "  <tbody>\n",
              "    <tr>\n",
              "      <th>0</th>\n",
              "      <td>1.569319</td>\n",
              "      <td>1.59</td>\n",
              "    </tr>\n",
              "    <tr>\n",
              "      <th>1</th>\n",
              "      <td>1.613667</td>\n",
              "      <td>1.67</td>\n",
              "    </tr>\n",
              "    <tr>\n",
              "      <th>2</th>\n",
              "      <td>1.658644</td>\n",
              "      <td>1.72</td>\n",
              "    </tr>\n",
              "    <tr>\n",
              "      <th>3</th>\n",
              "      <td>1.704713</td>\n",
              "      <td>1.68</td>\n",
              "    </tr>\n",
              "    <tr>\n",
              "      <th>4</th>\n",
              "      <td>1.746008</td>\n",
              "      <td>1.72</td>\n",
              "    </tr>\n",
              "    <tr>\n",
              "      <th>5</th>\n",
              "      <td>1.786206</td>\n",
              "      <td>1.75</td>\n",
              "    </tr>\n",
              "    <tr>\n",
              "      <th>6</th>\n",
              "      <td>1.827364</td>\n",
              "      <td>1.76</td>\n",
              "    </tr>\n",
              "    <tr>\n",
              "      <th>7</th>\n",
              "      <td>1.865796</td>\n",
              "      <td>1.78</td>\n",
              "    </tr>\n",
              "    <tr>\n",
              "      <th>8</th>\n",
              "      <td>1.903025</td>\n",
              "      <td>1.79</td>\n",
              "    </tr>\n",
              "    <tr>\n",
              "      <th>9</th>\n",
              "      <td>1.935948</td>\n",
              "      <td>1.91</td>\n",
              "    </tr>\n",
              "    <tr>\n",
              "      <th>10</th>\n",
              "      <td>1.967669</td>\n",
              "      <td>1.93</td>\n",
              "    </tr>\n",
              "    <tr>\n",
              "      <th>11</th>\n",
              "      <td>1.994787</td>\n",
              "      <td>2.03</td>\n",
              "    </tr>\n",
              "  </tbody>\n",
              "</table>\n",
              "</div>\n",
              "      <button class=\"colab-df-convert\" onclick=\"convertToInteractive('df-275e0a7b-d456-47c8-b612-a97157ff82e4')\"\n",
              "              title=\"Convert this dataframe to an interactive table.\"\n",
              "              style=\"display:none;\">\n",
              "        \n",
              "  <svg xmlns=\"http://www.w3.org/2000/svg\" height=\"24px\"viewBox=\"0 0 24 24\"\n",
              "       width=\"24px\">\n",
              "    <path d=\"M0 0h24v24H0V0z\" fill=\"none\"/>\n",
              "    <path d=\"M18.56 5.44l.94 2.06.94-2.06 2.06-.94-2.06-.94-.94-2.06-.94 2.06-2.06.94zm-11 1L8.5 8.5l.94-2.06 2.06-.94-2.06-.94L8.5 2.5l-.94 2.06-2.06.94zm10 10l.94 2.06.94-2.06 2.06-.94-2.06-.94-.94-2.06-.94 2.06-2.06.94z\"/><path d=\"M17.41 7.96l-1.37-1.37c-.4-.4-.92-.59-1.43-.59-.52 0-1.04.2-1.43.59L10.3 9.45l-7.72 7.72c-.78.78-.78 2.05 0 2.83L4 21.41c.39.39.9.59 1.41.59.51 0 1.02-.2 1.41-.59l7.78-7.78 2.81-2.81c.8-.78.8-2.07 0-2.86zM5.41 20L4 18.59l7.72-7.72 1.47 1.35L5.41 20z\"/>\n",
              "  </svg>\n",
              "      </button>\n",
              "      \n",
              "  <style>\n",
              "    .colab-df-container {\n",
              "      display:flex;\n",
              "      flex-wrap:wrap;\n",
              "      gap: 12px;\n",
              "    }\n",
              "\n",
              "    .colab-df-convert {\n",
              "      background-color: #E8F0FE;\n",
              "      border: none;\n",
              "      border-radius: 50%;\n",
              "      cursor: pointer;\n",
              "      display: none;\n",
              "      fill: #1967D2;\n",
              "      height: 32px;\n",
              "      padding: 0 0 0 0;\n",
              "      width: 32px;\n",
              "    }\n",
              "\n",
              "    .colab-df-convert:hover {\n",
              "      background-color: #E2EBFA;\n",
              "      box-shadow: 0px 1px 2px rgba(60, 64, 67, 0.3), 0px 1px 3px 1px rgba(60, 64, 67, 0.15);\n",
              "      fill: #174EA6;\n",
              "    }\n",
              "\n",
              "    [theme=dark] .colab-df-convert {\n",
              "      background-color: #3B4455;\n",
              "      fill: #D2E3FC;\n",
              "    }\n",
              "\n",
              "    [theme=dark] .colab-df-convert:hover {\n",
              "      background-color: #434B5C;\n",
              "      box-shadow: 0px 1px 3px 1px rgba(0, 0, 0, 0.15);\n",
              "      filter: drop-shadow(0px 1px 2px rgba(0, 0, 0, 0.3));\n",
              "      fill: #FFFFFF;\n",
              "    }\n",
              "  </style>\n",
              "\n",
              "      <script>\n",
              "        const buttonEl =\n",
              "          document.querySelector('#df-275e0a7b-d456-47c8-b612-a97157ff82e4 button.colab-df-convert');\n",
              "        buttonEl.style.display =\n",
              "          google.colab.kernel.accessAllowed ? 'block' : 'none';\n",
              "\n",
              "        async function convertToInteractive(key) {\n",
              "          const element = document.querySelector('#df-275e0a7b-d456-47c8-b612-a97157ff82e4');\n",
              "          const dataTable =\n",
              "            await google.colab.kernel.invokeFunction('convertToInteractive',\n",
              "                                                     [key], {});\n",
              "          if (!dataTable) return;\n",
              "\n",
              "          const docLinkHtml = 'Like what you see? Visit the ' +\n",
              "            '<a target=\"_blank\" href=https://colab.research.google.com/notebooks/data_table.ipynb>data table notebook</a>'\n",
              "            + ' to learn more about interactive tables.';\n",
              "          element.innerHTML = '';\n",
              "          dataTable['output_type'] = 'display_data';\n",
              "          await google.colab.output.renderOutput(dataTable, element);\n",
              "          const docLink = document.createElement('div');\n",
              "          docLink.innerHTML = docLinkHtml;\n",
              "          element.appendChild(docLink);\n",
              "        }\n",
              "      </script>\n",
              "    </div>\n",
              "  </div>\n",
              "  "
            ]
          },
          "metadata": {},
          "execution_count": 30
        }
      ]
    },
    {
      "cell_type": "code",
      "source": [
        "plt.figure(figsize = (16, 6))\n",
        "plt.plot(preds_acts['Predictions'])\n",
        "plt.plot(preds_acts['Actuals'])\n",
        "plt.legend(['Predictions', 'Actuals'])\n",
        "plt.show()"
      ],
      "metadata": {
        "colab": {
          "base_uri": "https://localhost:8080/",
          "height": 329
        },
        "id": "QZmAvZKcTVFK",
        "outputId": "3d8b4925-07c1-43a5-a1e0-b063e9a57367"
      },
      "execution_count": 31,
      "outputs": [
        {
          "output_type": "display_data",
          "data": {
            "text/plain": [
              "<Figure size 1600x600 with 1 Axes>"
            ],
            "image/png": "[encoded data removed]"
          },
          "metadata": {}
        }
      ]
    },
    {
      "cell_type": "code",
      "source": [
        "train = dataset.iloc[:train_size , 0:1]\n",
        "test = dataset.iloc[train_size: , 0:1]\n",
        "test['Predictions'] = predictions\n",
        "\n",
        "plt.figure(figsize= (16, 6))\n",
        "plt.title('Prediksi Emisi CO2 per kapita', fontsize= 18)\n",
        "plt.xlabel('Date', fontsize= 18)\n",
        "plt.ylabel('Emisi', fontsize= 18)\n",
        "plt.plot(train['CO2 emission per kapita'], linewidth= 3)\n",
        "plt.plot(test['CO2 emission per kapita'], linewidth= 3)\n",
        "plt.plot(test[\"Predictions\"], linewidth= 3)\n",
        "plt.legend(['Train', 'Test', 'Predictions'])"
      ],
      "metadata": {
        "colab": {
          "base_uri": "https://localhost:8080/",
          "height": 370
        },
        "id": "AkDwi4F2UGx2",
        "outputId": "e9dd73c9-e894-4293-d3c5-35cf796d6eb8"
      },
      "execution_count": 32,
      "outputs": [
        {
          "output_type": "execute_result",
          "data": {
            "text/plain": [
              "<matplotlib.legend.Legend at 0x7f0efcb6bfd0>"
            ]
          },
          "metadata": {},
          "execution_count": 32
        },
        {
          "output_type": "display_data",
          "data": {
            "text/plain": [
              "<Figure size 1600x600 with 1 Axes>"
            ],
            "image/png": "[encoded data removed]"
          },
          "metadata": {}
        }
      ]
    },
    {
      "cell_type": "code",
      "source": [
        "from tensorflow.keras.losses import MeanSquaredError\n",
        "from sklearn.metrics import mean_squared_error, mean_absolute_percentage_error"
      ],
      "metadata": {
        "id": "QYsx02umoD-0"
      },
      "execution_count": 33,
      "outputs": []
    },
    {
      "cell_type": "code",
      "source": [
        "print('Test RMSE:',mean_squared_error(test['CO2 emission per kapita'], test['Predictions'])**0.5)\n",
        "print('Test MAPE:',mean_absolute_percentage_error(test['CO2 emission per kapita'], test['Predictions']))"
      ],
      "metadata": {
        "colab": {
          "base_uri": "https://localhost:8080/"
        },
        "id": "h1Bpkpc2n2e1",
        "outputId": "bfe7bc7d-1006-4b2b-e376-14b8e0051d81"
      },
      "execution_count": 34,
      "outputs": [
        {
          "output_type": "stream",
          "name": "stdout",
          "text": [
            "Test RMSE: 0.05625039136162248\n",
            "Test MAPE: 0.02774978385223371\n"
          ]
        }
      ]
    },
    {
      "cell_type": "code",
      "source": [
        "import pickle"
      ],
      "metadata": {
        "id": "yfoq_uRZFqkF"
      },
      "execution_count": 35,
      "outputs": []
    },
    {
      "cell_type": "code",
      "source": [
        "#Menghasilkan file prediksi yang digunakan untuk deployment\n",
        "pickle.dump(preds_acts, open('deploy.sav','wb'))"
      ],
      "metadata": {
        "id": "2AZ-NJv0Fmpl"
      },
      "execution_count": 37,
      "outputs": []
    }
  ]
}